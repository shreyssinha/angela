{
 "cells": [
  {
   "cell_type": "code",
   "execution_count": null,
   "metadata": {},
   "outputs": [
    {
     "ename": "",
     "evalue": "",
     "output_type": "error",
     "traceback": [
      "\u001b[1;31mRunning cells with 'Python 3.13.0' requires the ipykernel package.\n",
      "\u001b[1;31mRun the following command to install 'ipykernel' into the Python environment. \n",
      "\u001b[1;31mCommand: '/usr/local/bin/python3 -m pip install ipykernel -U --user --force-reinstall'"
     ]
    }
   ],
   "source": [
    "import pandas as pd\n",
    "import numpy as np\n",
    "import os\n",
    "from pathlib import Path\n",
    "import seaborn as sns\n",
    "import matplotlib.pyplot as plt\n",
    "from scipy import stats"
   ]
  },
  {
   "cell_type": "code",
   "execution_count": null,
   "metadata": {},
   "outputs": [],
   "source": [
    "# Function to load and prepare data from CSV files\n",
    "def load_ticker_data(archive_path):\n",
    "    dfs = {}\n",
    "    for file in os.listdir(archive_path):\n",
    "        if file.endswith('.csv'):\n",
    "            ticker = file.split('.')[0]  # Get ticker name from filename\n",
    "            df = pd.read_csv(os.path.join(archive_path, file))\n",
    "            df['Date'] = pd.to_datetime(df['Date'])  # Assuming there's a Date column\n",
    "            df.set_index('Date', inplace=True)\n",
    "            dfs[ticker] = df['Close']  # We'll use closing prices for correlation\n",
    "    return pd.DataFrame(dfs)\n",
    "\n",
    "# Load all ticker data\n",
    "archive_path = 'path/to/your/archive/folder'  # Update this path\n",
    "price_data = load_ticker_data(archive_path)\n",
    "\n",
    "# Calculate correlation matrix\n",
    "correlation_matrix = price_data.corr()\n",
    "\n",
    "# Create a heatmap of correlations\n",
    "plt.figure(figsize=(12, 8))\n",
    "sns.heatmap(correlation_matrix, annot=True, cmap='coolwarm', center=0)\n",
    "plt.title('Correlation Matrix of Asset Pairs')\n",
    "plt.tight_layout()\n",
    "plt.show()"
   ]
  },
  {
   "cell_type": "code",
   "execution_count": null,
   "metadata": {},
   "outputs": [],
   "source": [
    "# Find highly correlated pairs\n",
    "def find_pairs(correlation_matrix, threshold=0.8):\n",
    "    pairs = []\n",
    "    for i in range(len(correlation_matrix.columns)):\n",
    "        for j in range(i+1, len(correlation_matrix.columns)):\n",
    "            corr = correlation_matrix.iloc[i, j]\n",
    "            if abs(corr) > threshold:\n",
    "                pairs.append({\n",
    "                    'asset1': correlation_matrix.columns[i],\n",
    "                    'asset2': correlation_matrix.columns[j],\n",
    "                    'correlation': corr\n",
    "                })\n",
    "    return pd.DataFrame(pairs)\n",
    "\n",
    "# Get highly correlated pairs\n",
    "correlated_pairs = find_pairs(correlation_matrix)\n",
    "print(\"\\nHighly correlated pairs:\")\n",
    "print(correlated_pairs)"
   ]
  },
  {
   "cell_type": "code",
   "execution_count": null,
   "metadata": {},
   "outputs": [],
   "source": [
    "# Function to calculate spread and test for cointegration\n",
    "def analyze_pair(price_data, asset1, asset2):\n",
    "    # Calculate price ratio\n",
    "    ratio = price_data[asset1] / price_data[asset2]\n",
    "    \n",
    "    # Perform Augmented Dickey-Fuller test for cointegration\n",
    "    adf_result = stats.adfuller(ratio)\n",
    "    \n",
    "    return {\n",
    "        'ratio_mean': ratio.mean(),\n",
    "        'ratio_std': ratio.std(),\n",
    "        'adf_statistic': adf_result[0],\n",
    "        'adf_pvalue': adf_result[1]\n",
    "    }\n",
    "\n",
    "# Analyze each pair for cointegration\n",
    "if not correlated_pairs.empty:\n",
    "    for _, pair in correlated_pairs.iterrows():\n",
    "        result = analyze_pair(price_data, pair['asset1'], pair['asset2'])\n",
    "        print(f\"\\nAnalysis for {pair['asset1']} - {pair['asset2']}:\")\n",
    "        print(f\"ADF Statistic: {result['adf_statistic']:.4f}\")\n",
    "        print(f\"ADF p-value: {result['adf_pvalue']:.4f}\")\n",
    "        print(f\"Mean ratio: {result['ratio_mean']:.4f}\")\n",
    "        print(f\"Ratio std: {result['ratio_std']:.4f}\")"
   ]
  }
 ],
 "metadata": {
  "kernelspec": {
   "display_name": "Python 3",
   "language": "python",
   "name": "python3"
  },
  "language_info": {
   "codemirror_mode": {
    "name": "ipython",
    "version": 3
   },
   "file_extension": ".py",
   "mimetype": "text/x-python",
   "name": "python",
   "nbconvert_exporter": "python",
   "pygments_lexer": "ipython3",
   "version": "3.13.0"
  }
 },
 "nbformat": 4,
 "nbformat_minor": 2
}
